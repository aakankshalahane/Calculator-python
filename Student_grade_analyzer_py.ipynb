{
  "nbformat": 4,
  "nbformat_minor": 0,
  "metadata": {
    "colab": {
      "provenance": [],
      "authorship_tag": "ABX9TyNQeW3x/Gj5rAnOil5VIHew",
      "include_colab_link": true
    },
    "kernelspec": {
      "name": "python3",
      "display_name": "Python 3"
    },
    "language_info": {
      "name": "python"
    }
  },
  "cells": [
    {
      "cell_type": "markdown",
      "metadata": {
        "id": "view-in-github",
        "colab_type": "text"
      },
      "source": [
        "<a href=\"https://colab.research.google.com/github/aakankshalahane/Calculator-python/blob/main/Student_grade_analyzer_py.ipynb\" target=\"_parent\"><img src=\"https://colab.research.google.com/assets/colab-badge.svg\" alt=\"Open In Colab\"/></a>"
      ]
    },
    {
      "cell_type": "code",
      "source": [
        "import pandas as pd\n",
        "import matplotlib.pyplot as plt\n",
        "\n",
        "# Input number of students\n",
        "num_students = int(input(\"Enter number of students: \"))\n",
        "\n",
        "# Collect student data\n",
        "data = []\n",
        "for i in range(num_students):\n",
        "    name = input(f\"\\nEnter name of student {i+1}: \")\n",
        "    marks = float(input(f\"Enter marks of {name}: \"))\n",
        "    data.append({\"Name\": name, \"Marks\": marks})\n",
        "\n",
        "# Create DataFrame\n",
        "df = pd.DataFrame(data)\n",
        "\n",
        "# Function to assign grades\n",
        "def grade(m):\n",
        "    if m >= 90:\n",
        "        return \"A\"\n",
        "    elif m >= 75:\n",
        "        return \"B\"\n",
        "    elif m >= 60:\n",
        "        return \"C\"\n",
        "    else:\n",
        "        return \"D\"\n",
        "\n",
        "df[\"Grade\"] = df[\"Marks\"].apply(grade)\n",
        "\n",
        "# Analytics\n",
        "average = df[\"Marks\"].mean()\n",
        "topper = df.loc[df[\"Marks\"].idxmax()]\n",
        "lowest = df.loc[df[\"Marks\"].idxmin()]\n",
        "\n",
        "# Display report\n",
        "print(\"\\n📊 STUDENT GRADE REPORT\")\n",
        "print(df)\n",
        "\n",
        "print(\"\\n📈 CLASS SUMMARY\")\n",
        "print(f\"Average Marks: {average:.2f}\")\n",
        "print(f\"Highest Marks: {topper['Marks']} ({topper['Name']})\")\n",
        "print(f\"Lowest Marks: {lowest['Marks']} ({lowest['Name']})\")\n",
        "\n",
        "print(\"\\n🏆 Topper:\", topper[\"Name\"], \"→ Grade\", topper[\"Grade\"])\n",
        "\n",
        "# Visualization\n",
        "plt.figure(figsize=(8,5))\n",
        "plt.bar(df[\"Name\"], df[\"Marks\"], color='skyblue')\n",
        "plt.title(\"Student Marks\")\n",
        "plt.xlabel(\"Students\")\n",
        "plt.ylabel(\"Marks\")\n",
        "plt.ylim(0, 100)\n",
        "for i, mark in enumerate(df[\"Marks\"]):\n",
        "    plt.text(i, mark+1, str(mark), ha='center')\n",
        "plt.show()\n"
      ],
      "metadata": {
        "colab": {
          "base_uri": "https://localhost:8080/",
          "height": 818
        },
        "id": "I708UpqneFDd",
        "outputId": "0d8d98f5-d98f-46d5-9cd2-bfc57de5559e"
      },
      "execution_count": 3,
      "outputs": [
        {
          "output_type": "stream",
          "name": "stdout",
          "text": [
            "Enter number of students: 3\n",
            "\n",
            "Enter name of student 1: Aakanksha\n",
            "Enter marks of Aakanksha: 85\n",
            "\n",
            "Enter name of student 2: aaryan\n",
            "Enter marks of aaryan: 67\n",
            "\n",
            "Enter name of student 3: neha\n",
            "Enter marks of neha: 78\n",
            "\n",
            "📊 STUDENT GRADE REPORT\n",
            "        Name  Marks Grade\n",
            "0  Aakanksha   85.0     B\n",
            "1     aaryan   67.0     C\n",
            "2       neha   78.0     B\n",
            "\n",
            "📈 CLASS SUMMARY\n",
            "Average Marks: 76.67\n",
            "Highest Marks: 85.0 (Aakanksha)\n",
            "Lowest Marks: 67.0 (aaryan)\n",
            "\n",
            "🏆 Topper: Aakanksha → Grade B\n"
          ]
        },
        {
          "output_type": "display_data",
          "data": {
            "text/plain": [
              "<Figure size 800x500 with 1 Axes>"
            ],
            "image/png": "[encoded data removed]"
          },
          "metadata": {}
        }
      ]
    }
  ]
}